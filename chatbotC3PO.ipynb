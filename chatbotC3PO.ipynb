{
 "cells": [
  {
   "cell_type": "code",
   "execution_count": 1,
   "metadata": {
    "collapsed": true
   },
   "outputs": [],
   "source": [
    "#chatbot de bienvenida\n",
    "from time import sleep\n",
    "def print_words(sentence):\n",
    "    for word in sentence.split():\n",
    "        for l in word:\n",
    "            sleep(.05)\n",
    "            print(l, end = '')\n",
    "        print(end = ' ')"
   ]
  },
  {
   "cell_type": "code",
   "execution_count": 2,
   "metadata": {
    "collapsed": true
   },
   "outputs": [],
   "source": [
    "enunciado=\"Hola joven padawan bienvenido...\""
   ]
  },
  {
   "cell_type": "code",
   "execution_count": 3,
   "metadata": {},
   "outputs": [
    {
     "name": "stdout",
     "output_type": "stream",
     "text": [
      "Hola joven padawan bienvenido... "
     ]
    }
   ],
   "source": [
    "print_words(enunciado)"
   ]
  },
  {
   "cell_type": "code",
   "execution_count": 4,
   "metadata": {
    "collapsed": true
   },
   "outputs": [],
   "source": [
    "pregunta1= \"Cual es tu nombre?\""
   ]
  },
  {
   "cell_type": "code",
   "execution_count": 5,
   "metadata": {},
   "outputs": [
    {
     "name": "stdout",
     "output_type": "stream",
     "text": [
      "Cual es tu nombre? "
     ]
    }
   ],
   "source": [
    "print_words(pregunta1)"
   ]
  },
  {
   "cell_type": "code",
   "execution_count": 6,
   "metadata": {
    "collapsed": true
   },
   "outputs": [],
   "source": [
    "prompt = ' >> '"
   ]
  },
  {
   "cell_type": "code",
   "execution_count": 7,
   "metadata": {},
   "outputs": [
    {
     "name": "stdout",
     "output_type": "stream",
     "text": [
      " >> Noe\n"
     ]
    }
   ],
   "source": [
    "nombre_usuario = input(prompt)"
   ]
  },
  {
   "cell_type": "code",
   "execution_count": 8,
   "metadata": {
    "collapsed": true
   },
   "outputs": [],
   "source": [
    "respuesta = \"Mucho gusto en conocerte \"+ nombre_usuario + \", soy C3PO y estoy para servirte.\""
   ]
  },
  {
   "cell_type": "code",
   "execution_count": 9,
   "metadata": {},
   "outputs": [
    {
     "name": "stdout",
     "output_type": "stream",
     "text": [
      "Mucho gusto en conocerte Noe, soy C3PO y estoy para servirte. "
     ]
    }
   ],
   "source": [
    "print_words(respuesta)"
   ]
  },
  {
   "cell_type": "code",
   "execution_count": 12,
   "metadata": {
    "collapsed": true
   },
   "outputs": [],
   "source": [
    "pregunta2 = 'Ahora, me gustaría saber de que galaxia eres %s, ¿en que planeta habitas?' % nombre_usuario"
   ]
  },
  {
   "cell_type": "code",
   "execution_count": 13,
   "metadata": {},
   "outputs": [
    {
     "name": "stdout",
     "output_type": "stream",
     "text": [
      "Ahora, me gustaría saber de que galaxia eres Noe, ¿en que planeta habitas? "
     ]
    }
   ],
   "source": [
    "print_words(pregunta2)"
   ]
  },
  {
   "cell_type": "code",
   "execution_count": 14,
   "metadata": {},
   "outputs": [
    {
     "name": "stdout",
     "output_type": "stream",
     "text": [
      " >> Tierra\n"
     ]
    }
   ],
   "source": [
    "lugar = input(prompt)"
   ]
  },
  {
   "cell_type": "code",
   "execution_count": 15,
   "metadata": {
    "collapsed": true
   },
   "outputs": [],
   "source": [
    "respuesta2 = 'Mmm... ¿eso existe? %s.' % lugar"
   ]
  },
  {
   "cell_type": "code",
   "execution_count": 16,
   "metadata": {},
   "outputs": [
    {
     "name": "stdout",
     "output_type": "stream",
     "text": [
      "Mmm... ¿eso existe? Tierra. "
     ]
    }
   ],
   "source": [
    "print_words(respuesta2)"
   ]
  },
  {
   "cell_type": "code",
   "execution_count": 18,
   "metadata": {
    "collapsed": true
   },
   "outputs": [],
   "source": [
    "pregunta3 = 'Bueno, después lo investigo. ¿Qué edad tienes?'"
   ]
  },
  {
   "cell_type": "code",
   "execution_count": 19,
   "metadata": {},
   "outputs": [
    {
     "name": "stdout",
     "output_type": "stream",
     "text": [
      "Bueno, después lo investigo. ¿Qué edad tienes? "
     ]
    }
   ],
   "source": [
    "print_words(pregunta3) "
   ]
  },
  {
   "cell_type": "code",
   "execution_count": 20,
   "metadata": {},
   "outputs": [
    {
     "name": "stdout",
     "output_type": "stream",
     "text": [
      " >> 20\n"
     ]
    }
   ],
   "source": [
    "edad = input(prompt)"
   ]
  },
  {
   "cell_type": "code",
   "execution_count": 21,
   "metadata": {
    "collapsed": true
   },
   "outputs": [],
   "source": [
    "pregunta4 = '¿Te ha gustado esta bienvenida?'"
   ]
  },
  {
   "cell_type": "code",
   "execution_count": 22,
   "metadata": {},
   "outputs": [
    {
     "name": "stdout",
     "output_type": "stream",
     "text": [
      "¿Te ha gustado esta bienvenida? "
     ]
    }
   ],
   "source": [
    "print_words(pregunta4)"
   ]
  },
  {
   "cell_type": "code",
   "execution_count": 23,
   "metadata": {},
   "outputs": [
    {
     "name": "stdout",
     "output_type": "stream",
     "text": [
      " >> nel\n"
     ]
    }
   ],
   "source": [
    "gustar = input(prompt)"
   ]
  },
  {
   "cell_type": "code",
   "execution_count": 26,
   "metadata": {},
   "outputs": [
    {
     "name": "stdout",
     "output_type": "stream",
     "text": [
      "Muy bien Noe, dices que nel te gustó la bienvenida. Tú vives en el planeta Tierra, voy a peguntarle a los sabios Jedi acerca de ese lugar. Además estas por cumplir 21 años. Justo la edad para convertirte en un guerrero Jedi! "
     ]
    }
   ],
   "source": [
    "sfinal = ' Muy bien %s, dices que %s te gustó la bienvenida.' % (nombre_usuario, gustar)\n",
    "sfinal2 = ' Tú vives en el planeta %s, voy a peguntarle a los sabios Jedi acerca de ese lugar.'% lugar\n",
    "sfinal3 = 'Además estas por cumplir %s años. Justo la edad para convertirte en un guerrero Jedi!' %  (int(edad)+ 1 )\n",
    "print_words(sfinal)\n",
    "print_words(sfinal2)\n",
    "print_words(sfinal3)\n"
   ]
  },
  {
   "cell_type": "code",
   "execution_count": null,
   "metadata": {
    "collapsed": true
   },
   "outputs": [],
   "source": []
  }
 ],
 "metadata": {
  "kernelspec": {
   "display_name": "Python 3",
   "language": "python",
   "name": "python3"
  },
  "language_info": {
   "codemirror_mode": {
    "name": "ipython",
    "version": 3
   },
   "file_extension": ".py",
   "mimetype": "text/x-python",
   "name": "python",
   "nbconvert_exporter": "python",
   "pygments_lexer": "ipython3",
   "version": "3.6.3"
  }
 },
 "nbformat": 4,
 "nbformat_minor": 2
}
