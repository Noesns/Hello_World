{
 "cells": [
  {
   "cell_type": "markdown",
   "metadata": {},
   "source": [
    "<img style=\"float: right; margin: 0px 0px 15px 15px;\" src=\"http://www.korrectkritters.com/upload/2018/03/22/marvel-iron-man-dog-costume-with-same-day-shipping-baxterboo-dog-iron-man-costume-s-60a458c63e41f511.jpg\" width=\"300px\" height=\"100px\" />\n",
    "\n",
    "\n",
    "# Presentacion\n",
    "## Noé Salinas\n",
    "- 20 Años\n",
    "- Guadalajara\n",
    "- Financial Engineering"
   ]
  },
  {
   "cell_type": "markdown",
   "metadata": {},
   "source": [
    "> Me gusta la tecnologia, las finanzas y la politica. Mis hobbies son el gimnasio, la robotica y el trading."
   ]
  },
  {
   "cell_type": "markdown",
   "metadata": {},
   "source": [
    "$f(X)=\\frac{\\sin(os)}{\\cos(os)}= \\tan(os)$"
   ]
  },
  {
   "cell_type": "markdown",
   "metadata": {},
   "source": [
    "# Que espero de este curso?\n",
    "De este curso espero aprender programacion aplicada a la simulacion para de esta forma poder simular modelos economicos y ver su comportamiento a largo plazo."
   ]
  },
  {
   "cell_type": "code",
   "execution_count": 0,
   "metadata": {},
   "outputs": [],
   "source": []
  }
 ],
 "metadata": {
  "kernelspec": {
   "display_name": "Python 3",
   "language": "python",
   "name": "python3"
  },
  "language_info": {
   "codemirror_mode": {
    "name": "ipython",
    "version": 3
   },
   "file_extension": ".py",
   "mimetype": "text/x-python",
   "name": "python",
   "nbconvert_exporter": "python",
   "pygments_lexer": "ipython3",
   "version": "3.6.3"
  }
 },
 "nbformat": 4,
 "nbformat_minor": 1
}
